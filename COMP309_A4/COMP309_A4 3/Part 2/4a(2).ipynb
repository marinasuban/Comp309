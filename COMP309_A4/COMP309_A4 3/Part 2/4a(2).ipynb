{
 "cells": [
  {
   "cell_type": "code",
   "execution_count": 1,
   "source": [
    "# Table\n",
    "import pandas as pd\n",
    "import numpy as np\n",
    "import datetime\n",
    "\n",
    "# Graphic\n",
    "import seaborn as sns\n",
    "import missingno as msno\n",
    "\n",
    "# Classification Algorithm\n",
    "from sklearn.preprocessing import LabelEncoder\n",
    "from sklearn.metrics import precision_score, recall_score, accuracy_score, f1_score, roc_auc_score\n",
    "\n",
    "# Classification\n",
    "from sklearn.neural_network import MLPClassifier\n",
    "from sklearn.tree import DecisionTreeClassifier\n",
    "from sklearn.linear_model import LogisticRegression\n",
    "from sklearn.neighbors import KNeighborsClassifier\n",
    "from sklearn.naive_bayes import GaussianNB\n",
    "from sklearn.svm import SVC\n",
    "from sklearn.ensemble import RandomForestClassifier , GradientBoostingClassifier, AdaBoostClassifier\n",
    "from sklearn.discriminant_analysis import LinearDiscriminantAnalysis"
   ],
   "outputs": [],
   "metadata": {}
  },
  {
   "cell_type": "code",
   "execution_count": 2,
   "source": [
    "#Step-1 Load data\n",
    "# Add column name to make data easier to interpret\n",
    "columns = ['Age','Workclass','Final_Weight','Education','Education Num','Marital Status','Occupation','Relationship','Race','Sex','Capital Gain','Capital Loss',\n",
    "            'Hours/Week','Country','Above 50K']\n",
    "\n",
    "train=pd.read_csv('adult.data', names=columns, delimiter =' *, *', engine='python')\n",
    "test=pd.read_csv('adult.test', names=columns, delimiter =' *, *', engine='python')\n",
    "test = test.iloc[1:] # ignore first row ('1x3 Cross validator')\n",
    "\n",
    "#Check column correctly set\n",
    "print(\"=================TRAIN================\")\n",
    "print(train.head(2))\n",
    "print(train.shape)\n",
    "print(\"=================TEST==================\")\n",
    "print(test.head(2))\n",
    "print(test.shape)"
   ],
   "outputs": [
    {
     "output_type": "stream",
     "name": "stdout",
     "text": [
      "=================TRAIN================\n",
      "   Age         Workclass  Final_Weight  Education  Education Num  \\\n",
      "0   39         State-gov         77516  Bachelors             13   \n",
      "1   50  Self-emp-not-inc         83311  Bachelors             13   \n",
      "\n",
      "       Marital Status       Occupation   Relationship   Race   Sex  \\\n",
      "0       Never-married     Adm-clerical  Not-in-family  White  Male   \n",
      "1  Married-civ-spouse  Exec-managerial        Husband  White  Male   \n",
      "\n",
      "   Capital Gain  Capital Loss  Hours/Week        Country Above 50K  \n",
      "0          2174             0          40  United-States     <=50K  \n",
      "1             0             0          13  United-States     <=50K  \n",
      "(32561, 15)\n",
      "=================TEST==================\n",
      "  Age Workclass  Final_Weight Education  Education Num      Marital Status  \\\n",
      "1  25   Private      226802.0      11th            7.0       Never-married   \n",
      "2  38   Private       89814.0   HS-grad            9.0  Married-civ-spouse   \n",
      "\n",
      "          Occupation Relationship   Race   Sex  Capital Gain  Capital Loss  \\\n",
      "1  Machine-op-inspct    Own-child  Black  Male           0.0           0.0   \n",
      "2    Farming-fishing      Husband  White  Male           0.0           0.0   \n",
      "\n",
      "   Hours/Week        Country Above 50K  \n",
      "1        40.0  United-States    <=50K.  \n",
      "2        50.0  United-States    <=50K.  \n",
      "(16281, 15)\n"
     ]
    }
   ],
   "metadata": {}
  },
  {
   "cell_type": "code",
   "execution_count": 3,
   "source": [
    "sns.displot(train['Above 50K'])"
   ],
   "outputs": [
    {
     "output_type": "execute_result",
     "data": {
      "text/plain": [
       "<seaborn.axisgrid.FacetGrid at 0x11a3a5790>"
      ]
     },
     "metadata": {},
     "execution_count": 3
    },
    {
     "output_type": "display_data",
     "data": {
      "image/png": "[encoded data removed]",
      "text/plain": [
       "<Figure size 360x360 with 1 Axes>"
      ]
     },
     "metadata": {
      "needs_background": "light"
     }
    }
   ],
   "metadata": {}
  },
  {
   "cell_type": "code",
   "execution_count": 4,
   "source": [
    "#Step-2 Analyse (missing values: null)\n",
    "print(\"=================TRAIN================\")\n",
    "print(train.isnull().sum())\n",
    "print(\"=================TRAIN================\")\n",
    "print(test.isnull().sum())"
   ],
   "outputs": [
    {
     "output_type": "stream",
     "name": "stdout",
     "text": [
      "=================TRAIN================\n",
      "Age               0\n",
      "Workclass         0\n",
      "Final_Weight      0\n",
      "Education         0\n",
      "Education Num     0\n",
      "Marital Status    0\n",
      "Occupation        0\n",
      "Relationship      0\n",
      "Race              0\n",
      "Sex               0\n",
      "Capital Gain      0\n",
      "Capital Loss      0\n",
      "Hours/Week        0\n",
      "Country           0\n",
      "Above 50K         0\n",
      "dtype: int64\n",
      "=================TRAIN================\n",
      "Age               0\n",
      "Workclass         0\n",
      "Final_Weight      0\n",
      "Education         0\n",
      "Education Num     0\n",
      "Marital Status    0\n",
      "Occupation        0\n",
      "Relationship      0\n",
      "Race              0\n",
      "Sex               0\n",
      "Capital Gain      0\n",
      "Capital Loss      0\n",
      "Hours/Week        0\n",
      "Country           0\n",
      "Above 50K         0\n",
      "dtype: int64\n"
     ]
    }
   ],
   "metadata": {}
  },
  {
   "cell_type": "code",
   "execution_count": 5,
   "source": [
    "#Step-2 Analyse (missing values: ?)\n",
    "print(\"=================TRAIN================\")\n",
    "print(train.isin([\"?\"]).sum())\n",
    "print(\"=================TRAIN================\")\n",
    "print(test.isin([\"?\"]).sum())"
   ],
   "outputs": [
    {
     "output_type": "stream",
     "name": "stdout",
     "text": [
      "=================TRAIN================\n",
      "Age                  0\n",
      "Workclass         1836\n",
      "Final_Weight         0\n",
      "Education            0\n",
      "Education Num        0\n",
      "Marital Status       0\n",
      "Occupation        1843\n",
      "Relationship         0\n",
      "Race                 0\n",
      "Sex                  0\n",
      "Capital Gain         0\n",
      "Capital Loss         0\n",
      "Hours/Week           0\n",
      "Country            583\n",
      "Above 50K            0\n",
      "dtype: int64\n",
      "=================TRAIN================\n",
      "Age                 0\n",
      "Workclass         963\n",
      "Final_Weight        0\n",
      "Education           0\n",
      "Education Num       0\n",
      "Marital Status      0\n",
      "Occupation        966\n",
      "Relationship        0\n",
      "Race                0\n",
      "Sex                 0\n",
      "Capital Gain        0\n",
      "Capital Loss        0\n",
      "Hours/Week          0\n",
      "Country           274\n",
      "Above 50K           0\n",
      "dtype: int64\n"
     ]
    }
   ],
   "metadata": {}
  },
  {
   "cell_type": "code",
   "execution_count": 6,
   "source": [
    "#Step-2 Analyse (data features)\n",
    "print(\"=================TRAIN================\")\n",
    "print(train.describe()) \n",
    "print(\"=================TEST==================\")\n",
    "print(test.describe()) "
   ],
   "outputs": [
    {
     "output_type": "stream",
     "name": "stdout",
     "text": [
      "=================TRAIN================\n",
      "                Age  Final_Weight  Education Num  Capital Gain  Capital Loss  \\\n",
      "count  32561.000000  3.256100e+04   32561.000000  32561.000000  32561.000000   \n",
      "mean      38.581647  1.897784e+05      10.080679   1077.648844     87.303830   \n",
      "std       13.640433  1.055500e+05       2.572720   7385.292085    402.960219   \n",
      "min       17.000000  1.228500e+04       1.000000      0.000000      0.000000   \n",
      "25%       28.000000  1.178270e+05       9.000000      0.000000      0.000000   \n",
      "50%       37.000000  1.783560e+05      10.000000      0.000000      0.000000   \n",
      "75%       48.000000  2.370510e+05      12.000000      0.000000      0.000000   \n",
      "max       90.000000  1.484705e+06      16.000000  99999.000000   4356.000000   \n",
      "\n",
      "         Hours/Week  \n",
      "count  32561.000000  \n",
      "mean      40.437456  \n",
      "std       12.347429  \n",
      "min        1.000000  \n",
      "25%       40.000000  \n",
      "50%       40.000000  \n",
      "75%       45.000000  \n",
      "max       99.000000  \n",
      "=================TEST==================\n",
      "       Final_Weight  Education Num  Capital Gain  Capital Loss    Hours/Week\n",
      "count  1.628100e+04   16281.000000  16281.000000  16281.000000  16281.000000\n",
      "mean   1.894357e+05      10.072907   1081.905104     87.899269     40.392236\n",
      "std    1.057149e+05       2.567545   7583.935968    403.105286     12.479332\n",
      "min    1.349200e+04       1.000000      0.000000      0.000000      1.000000\n",
      "25%    1.167360e+05       9.000000      0.000000      0.000000     40.000000\n",
      "50%    1.778310e+05      10.000000      0.000000      0.000000     40.000000\n",
      "75%    2.383840e+05      12.000000      0.000000      0.000000     45.000000\n",
      "max    1.490400e+06      16.000000  99999.000000   3770.000000     99.000000\n"
     ]
    }
   ],
   "metadata": {}
  },
  {
   "cell_type": "code",
   "execution_count": 7,
   "source": [
    "#Step-3 Preprocess (remove instance with missing values)\n",
    "train = train.replace('?', np.nan)\n",
    "train.dropna(how='any',inplace=True)\n",
    "\n",
    "test = test.replace('?', np.nan)\n",
    "test.dropna(how='any',inplace=True)\n",
    "\n",
    "print(\"=================TRAIN================\")\n",
    "print(train.isin([\"?\"]).sum()) # check if successful\n",
    "print(\"=================TEST==================\")\n",
    "print(test.isin([\"?\"]).sum()) # check if successful"
   ],
   "outputs": [
    {
     "output_type": "stream",
     "name": "stdout",
     "text": [
      "=================TRAIN================\n",
      "Age               0\n",
      "Workclass         0\n",
      "Final_Weight      0\n",
      "Education         0\n",
      "Education Num     0\n",
      "Marital Status    0\n",
      "Occupation        0\n",
      "Relationship      0\n",
      "Race              0\n",
      "Sex               0\n",
      "Capital Gain      0\n",
      "Capital Loss      0\n",
      "Hours/Week        0\n",
      "Country           0\n",
      "Above 50K         0\n",
      "dtype: int64\n",
      "=================TEST==================\n",
      "Age               0\n",
      "Workclass         0\n",
      "Final_Weight      0\n",
      "Education         0\n",
      "Education Num     0\n",
      "Marital Status    0\n",
      "Occupation        0\n",
      "Relationship      0\n",
      "Race              0\n",
      "Sex               0\n",
      "Capital Gain      0\n",
      "Capital Loss      0\n",
      "Hours/Week        0\n",
      "Country           0\n",
      "Above 50K         0\n",
      "dtype: int64\n"
     ]
    }
   ],
   "metadata": {}
  },
  {
   "cell_type": "code",
   "execution_count": 8,
   "source": [
    "#Step-3 Preprocess (remove full stop in Above/Below 50K )\n",
    "print(\"=================TRAIN================\")\n",
    "train = train.replace(\"<=50K.\", \"<=50K\")\n",
    "train = train.replace(\">50K.\", \">50K\")\n",
    "train = train.replace(\"<=50K\", \"1\")\n",
    "train = train.replace(\">50K\", \"0\")\n",
    "print(train.head(2))\n",
    "\n",
    "print(\"=================TEST==================\")\n",
    "test = test.replace(\"<=50K.\", \"<=50K\")\n",
    "test = test.replace(\">50K.\", \">50K\")\n",
    "test = test.replace(\"<=50K\", \"1\")\n",
    "test = test.replace(\">50K\", \"0\")\n",
    "print(test.head(2))"
   ],
   "outputs": [
    {
     "output_type": "stream",
     "name": "stdout",
     "text": [
      "=================TRAIN================\n",
      "   Age         Workclass  Final_Weight  Education  Education Num  \\\n",
      "0   39         State-gov         77516  Bachelors             13   \n",
      "1   50  Self-emp-not-inc         83311  Bachelors             13   \n",
      "\n",
      "       Marital Status       Occupation   Relationship   Race   Sex  \\\n",
      "0       Never-married     Adm-clerical  Not-in-family  White  Male   \n",
      "1  Married-civ-spouse  Exec-managerial        Husband  White  Male   \n",
      "\n",
      "   Capital Gain  Capital Loss  Hours/Week        Country Above 50K  \n",
      "0          2174             0          40  United-States         1  \n",
      "1             0             0          13  United-States         1  \n",
      "=================TEST==================\n",
      "  Age Workclass  Final_Weight Education  Education Num      Marital Status  \\\n",
      "1  25   Private      226802.0      11th            7.0       Never-married   \n",
      "2  38   Private       89814.0   HS-grad            9.0  Married-civ-spouse   \n",
      "\n",
      "          Occupation Relationship   Race   Sex  Capital Gain  Capital Loss  \\\n",
      "1  Machine-op-inspct    Own-child  Black  Male           0.0           0.0   \n",
      "2    Farming-fishing      Husband  White  Male           0.0           0.0   \n",
      "\n",
      "   Hours/Week        Country Above 50K  \n",
      "1        40.0  United-States         1  \n",
      "2        50.0  United-States         1  \n"
     ]
    }
   ],
   "metadata": {}
  },
  {
   "cell_type": "code",
   "execution_count": 9,
   "source": [
    "#Step-3 Preprocess (remove unnessary columns)\n",
    "# Education has numerical column \n",
    "train = train.drop('Education', axis =1) \n",
    "test = test.drop('Education', axis =1)\n",
    "\n",
    "#final weight is an irrelevant feature\n",
    "train = train.drop('Final_Weight', axis =1)\n",
    "test = test.drop('Final_Weight', axis =1)\n",
    "\n",
    "print(\"=================TRAIN================\")\n",
    "print(train.head(1))\n",
    "\n",
    "print(\"=================TEST==================\")\n",
    "print(test.head(1))\n"
   ],
   "outputs": [
    {
     "output_type": "stream",
     "name": "stdout",
     "text": [
      "=================TRAIN================\n",
      "   Age  Workclass  Education Num Marital Status    Occupation   Relationship  \\\n",
      "0   39  State-gov             13  Never-married  Adm-clerical  Not-in-family   \n",
      "\n",
      "    Race   Sex  Capital Gain  Capital Loss  Hours/Week        Country  \\\n",
      "0  White  Male          2174             0          40  United-States   \n",
      "\n",
      "  Above 50K  \n",
      "0         1  \n",
      "=================TEST==================\n",
      "  Age Workclass  Education Num Marital Status         Occupation Relationship  \\\n",
      "1  25   Private            7.0  Never-married  Machine-op-inspct    Own-child   \n",
      "\n",
      "    Race   Sex  Capital Gain  Capital Loss  Hours/Week        Country  \\\n",
      "1  Black  Male           0.0           0.0        40.0  United-States   \n",
      "\n",
      "  Above 50K  \n",
      "1         1  \n"
     ]
    }
   ],
   "metadata": {}
  },
  {
   "cell_type": "code",
   "execution_count": 10,
   "source": [
    "#Step-3 Convert categorical features to numerical (TRAIN)\n",
    "categorical_vars = ['Workclass', 'Marital Status', 'Occupation', 'Relationship','Race', 'Sex', 'Country']\n",
    "\n",
    "#for each variable in the categorical variable list\n",
    "for var in categorical_vars:\n",
    "    categorical_list = 'var' + '_' + var\n",
    "    categorical_list = pd.get_dummies(train[var], prefix = var)\n",
    "    train = train.join(categorical_list)\n",
    "\n",
    "data_vars = train.columns.values.tolist()\n",
    "to_keep = [i for i in data_vars if i not in categorical_vars]\n",
    "\n",
    "train = train[to_keep]  \n",
    "train['Above 50K'] = LabelEncoder().fit_transform(train['Above 50K'])\n",
    "\n",
    "train.columns.values\n",
    "print(train.head(1))"
   ],
   "outputs": [
    {
     "output_type": "stream",
     "name": "stdout",
     "text": [
      "   Age  Education Num  Capital Gain  Capital Loss  Hours/Week  Above 50K  \\\n",
      "0   39             13          2174             0          40          1   \n",
      "\n",
      "   Workclass_Federal-gov  Workclass_Local-gov  Workclass_Private  \\\n",
      "0                      0                    0                  0   \n",
      "\n",
      "   Workclass_Self-emp-inc  ...  Country_Portugal  Country_Puerto-Rico  \\\n",
      "0                       0  ...                 0                    0   \n",
      "\n",
      "   Country_Scotland  Country_South  Country_Taiwan  Country_Thailand  \\\n",
      "0                 0              0               0                 0   \n",
      "\n",
      "   Country_Trinadad&Tobago  Country_United-States  Country_Vietnam  \\\n",
      "0                        0                      1                0   \n",
      "\n",
      "   Country_Yugoslavia  \n",
      "0                   0  \n",
      "\n",
      "[1 rows x 88 columns]\n"
     ]
    }
   ],
   "metadata": {}
  },
  {
   "cell_type": "code",
   "execution_count": 11,
   "source": [
    "#Step-3 Preprocess Convert categorical features to numerical (TEST)\n",
    "categorical_vars = ['Workclass', 'Marital Status', 'Occupation', 'Relationship','Race', 'Sex', 'Country']\n",
    "\n",
    "#for each variable in the categorical variable list\n",
    "for var in categorical_vars:\n",
    "    categorical_list = 'var' + '_' + var\n",
    "    categorical_list = pd.get_dummies(test[var], prefix = var)\n",
    "    test = test.join(categorical_list)\n",
    "\n",
    "data_vars = test.columns.values.tolist()\n",
    "to_keep = [i for i in data_vars if i not in categorical_vars]\n",
    "\n",
    "test = test[to_keep]  \n",
    "test['Above 50K'] = LabelEncoder().fit_transform(test['Above 50K'])\n",
    "\n",
    "test.columns.values\n",
    "print(test.head(1))"
   ],
   "outputs": [
    {
     "output_type": "stream",
     "name": "stdout",
     "text": [
      "  Age  Education Num  Capital Gain  Capital Loss  Hours/Week  Above 50K  \\\n",
      "1  25            7.0           0.0           0.0        40.0          1   \n",
      "\n",
      "   Workclass_Federal-gov  Workclass_Local-gov  Workclass_Private  \\\n",
      "1                      0                    0                  1   \n",
      "\n",
      "   Workclass_Self-emp-inc  ...  Country_Portugal  Country_Puerto-Rico  \\\n",
      "1                       0  ...                 0                    0   \n",
      "\n",
      "   Country_Scotland  Country_South  Country_Taiwan  Country_Thailand  \\\n",
      "1                 0              0               0                 0   \n",
      "\n",
      "   Country_Trinadad&Tobago  Country_United-States  Country_Vietnam  \\\n",
      "1                        0                      1                0   \n",
      "\n",
      "   Country_Yugoslavia  \n",
      "1                   0  \n",
      "\n",
      "[1 rows x 87 columns]\n"
     ]
    }
   ],
   "metadata": {}
  },
  {
   "cell_type": "code",
   "execution_count": 12,
   "source": [
    "#Step-3 Preprocess (Remove unnessary column from train)\n",
    "missing_cols = set(train) - set(test) #find missing column\n",
    "print(missing_cols)\n",
    "train.drop(['Country_Holand-Netherlands'] , axis=1 , inplace=True)\n",
    "\n",
    "#check if successful\n",
    "print(\"=================TRAIN================\")\n",
    "print(train.shape)\n",
    "print(\"=================TEST==================\")\n",
    "print(test.shape)"
   ],
   "outputs": [
    {
     "output_type": "stream",
     "name": "stdout",
     "text": [
      "{'Country_Holand-Netherlands'}\n",
      "=================TRAIN================\n",
      "(30162, 87)\n",
      "=================TEST==================\n",
      "(15060, 87)\n"
     ]
    }
   ],
   "metadata": {}
  },
  {
   "cell_type": "code",
   "execution_count": 13,
   "source": [
    "#Step-4 Exploratory Data Analysis\n",
    "sns.displot(train['Above 50K'])\n",
    "sns.displot(train['Age'])\n",
    "sns.displot(train['Education Num'])\n",
    "sns.displot(train['Capital Gain'])\n",
    "sns.displot(train['Capital Loss'])\n",
    "sns.displot(train['Hours/Week'])"
   ],
   "outputs": [
    {
     "output_type": "execute_result",
     "data": {
      "text/plain": [
       "<seaborn.axisgrid.FacetGrid at 0x11a6afdd0>"
      ]
     },
     "metadata": {},
     "execution_count": 13
    },
    {
     "output_type": "display_data",
     "data": {
      "image/png": "[encoded data removed]",
      "text/plain": [
       "<Figure size 360x360 with 1 Axes>"
      ]
     },
     "metadata": {
      "needs_background": "light"
     }
    },
    {
     "output_type": "display_data",
     "data": {
      "image/png": "[encoded data removed]",
      "text/plain": [
       "<Figure size 360x360 with 1 Axes>"
      ]
     },
     "metadata": {
      "needs_background": "light"
     }
    },
    {
     "output_type": "display_data",
     "data": {
      "image/png": "[encoded data removed]",
      "text/plain": [
       "<Figure size 360x360 with 1 Axes>"
      ]
     },
     "metadata": {
      "needs_background": "light"
     }
    },
    {
     "output_type": "display_data",
     "data": {
      "image/png": "[encoded data removed]",
      "text/plain": [
       "<Figure size 360x360 with 1 Axes>"
      ]
     },
     "metadata": {
      "needs_background": "light"
     }
    },
    {
     "output_type": "display_data",
     "data": {
      "image/png": "[encoded data removed]",
      "text/plain": [
       "<Figure size 360x360 with 1 Axes>"
      ]
     },
     "metadata": {
      "needs_background": "light"
     }
    },
    {
     "output_type": "display_data",
     "data": {
      "image/png": "[encoded data removed]",
      "text/plain": [
       "<Figure size 360x360 with 1 Axes>"
      ]
     },
     "metadata": {
      "needs_background": "light"
     }
    }
   ],
   "metadata": {}
  },
  {
   "cell_type": "code",
   "execution_count": 14,
   "source": [
    "#Split data into train and test set\n",
    "X_train = train.drop(['Above 50K'], axis = 1)\n",
    "y_train = train['Above 50K']\n",
    "X_test = test.drop(['Above 50K'], axis = 1)\n",
    "y_test = test['Above 50K']"
   ],
   "outputs": [],
   "metadata": {}
  },
  {
   "cell_type": "code",
   "execution_count": 15,
   "source": [
    "#Method to print clasification result\n",
    "def PrintResult(classifier, label):\n",
    "    start_time = datetime.datetime.now() #start timer\n",
    "    classifier.fit(X_train, y_train) #get param classifier to fit data\n",
    "    y_pred = classifier.predict(X_test) #get predictions after data has been fitted\n",
    "    end_time = datetime.datetime.now() #get time at end of regression fitting\n",
    "    duration = (end_time - start_time).total_seconds() #get total time it takes for model to run\n",
    "\n",
    "\n",
    "#Performance Metrics : \n",
    "    accuracy = accuracy_score(y_test, y_pred) # accuracy\n",
    "    precision = precision_score(y_test, y_pred)  # precision\n",
    "    recall = recall_score(y_test, y_pred) #recall\n",
    "    F1 = f1_score(y_test, y_pred) #F1-Score\n",
    "    AUC = roc_auc_score(y_test, y_pred) #AUC\n",
    "\n",
    "# Table    \n",
    "    print(\"--------------------------\")\n",
    "    print(\"Classifier: \" + label)\n",
    "    print(label + ' Accuracy Score : %0.2f ' % accuracy)\n",
    "    print(label + ' Precision Score : %0.2f ' % precision)\n",
    "    print(label + ' Recall Score : %0.2f ' % recall)\n",
    "    print(label + ' F1 Score : %0.2f ' % F1)\n",
    "    print(label + ' Auc Score : %0.2f ' % AUC)\n",
    "    print(\"Execution time: {t:.3f} seconds\".format(t = duration))\n",
    "    print(\"--------------------------\")"
   ],
   "outputs": [],
   "metadata": {}
  },
  {
   "cell_type": "code",
   "execution_count": 16,
   "source": [
    "#KNN (1)\n",
    "PrintResult(KNeighborsClassifier(), \"KNN\")"
   ],
   "outputs": [
    {
     "output_type": "stream",
     "name": "stdout",
     "text": [
      "--------------------------\n",
      "Classifier: KNN\n",
      "KNN Accuracy Score : 0.84 \n",
      "KNN Precision Score : 0.89 \n",
      "KNN Recall Score : 0.90 \n",
      "KNN F1 Score : 0.90 \n",
      "KNN Auc Score : 0.78 \n",
      "Execution time: 21.939 seconds\n",
      "--------------------------\n"
     ]
    }
   ],
   "metadata": {}
  },
  {
   "cell_type": "code",
   "execution_count": 17,
   "source": [
    "#NB (2)\n",
    "PrintResult(GaussianNB(), \"Naive Bayes\")"
   ],
   "outputs": [
    {
     "output_type": "stream",
     "name": "stdout",
     "text": [
      "--------------------------\n",
      "Classifier: Naive Bayes\n",
      "Naive Bayes Accuracy Score : 0.79 \n",
      "Naive Bayes Precision Score : 0.93 \n",
      "Naive Bayes Recall Score : 0.78 \n",
      "Naive Bayes F1 Score : 0.85 \n",
      "Naive Bayes Auc Score : 0.80 \n",
      "Execution time: 0.266 seconds\n",
      "--------------------------\n"
     ]
    }
   ],
   "metadata": {}
  },
  {
   "cell_type": "code",
   "execution_count": 18,
   "source": [
    "#SVM (3)\n",
    "PrintResult(SVC(), \"SVM\")"
   ],
   "outputs": [
    {
     "output_type": "stream",
     "name": "stdout",
     "text": [
      "--------------------------\n",
      "Classifier: SVM\n",
      "SVM Accuracy Score : 0.80 \n",
      "SVM Precision Score : 0.80 \n",
      "SVM Recall Score : 0.97 \n",
      "SVM F1 Score : 0.88 \n",
      "SVM Auc Score : 0.62 \n",
      "Execution time: 145.796 seconds\n",
      "--------------------------\n"
     ]
    }
   ],
   "metadata": {}
  },
  {
   "cell_type": "code",
   "execution_count": 19,
   "source": [
    "#DT (4)\n",
    "PrintResult(DecisionTreeClassifier(), \"Decision Tree\")"
   ],
   "outputs": [
    {
     "output_type": "stream",
     "name": "stdout",
     "text": [
      "--------------------------\n",
      "Classifier: Decision Tree\n",
      "Decision Tree Accuracy Score : 0.81 \n",
      "Decision Tree Precision Score : 0.88 \n",
      "Decision Tree Recall Score : 0.87 \n",
      "Decision Tree F1 Score : 0.87 \n",
      "Decision Tree Auc Score : 0.75 \n",
      "Execution time: 0.530 seconds\n",
      "--------------------------\n"
     ]
    }
   ],
   "metadata": {}
  },
  {
   "cell_type": "code",
   "execution_count": 20,
   "source": [
    "#RF (5)\n",
    "PrintResult(RandomForestClassifier(), \"Random Forest\")"
   ],
   "outputs": [
    {
     "output_type": "stream",
     "name": "stdout",
     "text": [
      "--------------------------\n",
      "Classifier: Random Forest\n",
      "Random Forest Accuracy Score : 0.84 \n",
      "Random Forest Precision Score : 0.88 \n",
      "Random Forest Recall Score : 0.91 \n",
      "Random Forest F1 Score : 0.90 \n",
      "Random Forest Auc Score : 0.77 \n",
      "Execution time: 5.975 seconds\n",
      "--------------------------\n"
     ]
    }
   ],
   "metadata": {}
  },
  {
   "cell_type": "code",
   "execution_count": 21,
   "source": [
    "#AB (6)\n",
    "PrintResult(AdaBoostClassifier(), \"AdaBoost\")"
   ],
   "outputs": [
    {
     "output_type": "stream",
     "name": "stdout",
     "text": [
      "--------------------------\n",
      "Classifier: AdaBoost\n",
      "AdaBoost Accuracy Score : 0.85 \n",
      "AdaBoost Precision Score : 0.88 \n",
      "AdaBoost Recall Score : 0.93 \n",
      "AdaBoost F1 Score : 0.91 \n",
      "AdaBoost Auc Score : 0.78 \n",
      "Execution time: 6.519 seconds\n",
      "--------------------------\n"
     ]
    }
   ],
   "metadata": {}
  },
  {
   "cell_type": "code",
   "execution_count": 22,
   "source": [
    "#GB (7)\n",
    "PrintResult(GradientBoostingClassifier(), \"Gradient Boosting\")"
   ],
   "outputs": [
    {
     "output_type": "stream",
     "name": "stdout",
     "text": [
      "--------------------------\n",
      "Classifier: Gradient Boosting\n",
      "Gradient Boosting Accuracy Score : 0.87 \n",
      "Gradient Boosting Precision Score : 0.88 \n",
      "Gradient Boosting Recall Score : 0.95 \n",
      "Gradient Boosting F1 Score : 0.91 \n",
      "Gradient Boosting Auc Score : 0.78 \n",
      "Execution time: 5.947 seconds\n",
      "--------------------------\n"
     ]
    }
   ],
   "metadata": {}
  },
  {
   "cell_type": "code",
   "execution_count": 23,
   "source": [
    "#LD (8)\n",
    "PrintResult(LinearDiscriminantAnalysis(), \"Linear Discriminant\")"
   ],
   "outputs": [
    {
     "output_type": "stream",
     "name": "stdout",
     "text": [
      "--------------------------\n",
      "Classifier: Linear Discriminant\n",
      "Linear Discriminant Accuracy Score : 0.84 \n",
      "Linear Discriminant Precision Score : 0.87 \n",
      "Linear Discriminant Recall Score : 0.92 \n",
      "Linear Discriminant F1 Score : 0.90 \n",
      "Linear Discriminant Auc Score : 0.76 \n",
      "Execution time: 0.927 seconds\n",
      "--------------------------\n"
     ]
    }
   ],
   "metadata": {}
  },
  {
   "cell_type": "code",
   "execution_count": 24,
   "source": [
    "#MLP (9)\n",
    "PrintResult(MLPClassifier(), \"MLP\")"
   ],
   "outputs": [
    {
     "output_type": "stream",
     "name": "stdout",
     "text": [
      "--------------------------\n",
      "Classifier: MLP\n",
      "MLP Accuracy Score : 0.84 \n",
      "MLP Precision Score : 0.89 \n",
      "MLP Recall Score : 0.91 \n",
      "MLP F1 Score : 0.90 \n",
      "MLP Auc Score : 0.78 \n",
      "Execution time: 5.678 seconds\n",
      "--------------------------\n"
     ]
    }
   ],
   "metadata": {}
  },
  {
   "cell_type": "code",
   "execution_count": 25,
   "source": [
    "#LR (10)\n",
    "PrintResult(LogisticRegression(solver='lbfgs', max_iter=10000), \"Logistic Regression\")"
   ],
   "outputs": [
    {
     "output_type": "stream",
     "name": "stdout",
     "text": [
      "--------------------------\n",
      "Classifier: Logistic Regression\n",
      "Logistic Regression Accuracy Score : 0.85 \n",
      "Logistic Regression Precision Score : 0.88 \n",
      "Logistic Regression Recall Score : 0.93 \n",
      "Logistic Regression F1 Score : 0.90 \n",
      "Logistic Regression Auc Score : 0.77 \n",
      "Execution time: 19.579 seconds\n",
      "--------------------------\n"
     ]
    }
   ],
   "metadata": {}
  }
 ],
 "metadata": {
  "orig_nbformat": 4,
  "language_info": {
   "name": "python",
   "version": "3.7.8rc1",
   "mimetype": "text/x-python",
   "codemirror_mode": {
    "name": "ipython",
    "version": 3
   },
   "pygments_lexer": "ipython3",
   "nbconvert_exporter": "python",
   "file_extension": ".py"
  },
  "kernelspec": {
   "name": "python3",
   "display_name": "Python 3.7.8rc1 64-bit"
  },
  "interpreter": {
   "hash": "aee8b7b246df8f9039afb4144a1f6fd8d2ca17a180786b69acc140d282b71a49"
  }
 },
 "nbformat": 4,
 "nbformat_minor": 2
}